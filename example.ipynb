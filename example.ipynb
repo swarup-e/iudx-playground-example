{
 "cells": [
  {
   "cell_type": "markdown",
   "id": "1544e696-2748-4092-9a08-dc547ce95fc4",
   "metadata": {},
   "source": [
    "## Token Generation\n",
    "In case if you would like to generate access token then you can use this approach to generate token. "
   ]
  },
  {
   "cell_type": "code",
   "execution_count": 1,
   "id": "e182ca40-220f-440a-be38-9c9bfb9c8c7e",
   "metadata": {},
   "outputs": [],
   "source": [
    "from iudx.auth.Token import Token\n",
    "\n",
    "token = Token(auth_url=\"https://authorization.iudx.org.in/auth/v1/token\", authorization_token_file='./credentials.json')\n",
    "\n",
    "token.set_item(\n",
    "    item_id=\"rs.iudx.org.in\",\n",
    "    item_type=\"resource_server\",\n",
    "    role=\"consumer\")\n",
    "\n",
    "access_token = token.request_token()"
   ]
  },
  {
   "cell_type": "markdown",
   "id": "268e36e8-cd2c-433b-b66d-2990fa92f10a",
   "metadata": {},
   "source": [
    "## Accessing Resource"
   ]
  },
  {
   "cell_type": "code",
   "execution_count": 12,
   "id": "5be15b8b-f0a2-4913-86d5-5b19e8e7a59f",
   "metadata": {},
   "outputs": [
    {
     "name": "stdout",
     "output_type": "stream",
     "text": [
      "RESULTS: [{'deviceStatus': 'ACTIVE', 'id': 'datakaveri.org/04a15c9960ffda227e9546f3f46e629e1fe4132b/rs.iudx.org.in/pune-env-aqm/83cdf03d-5787-7052-08aa-143cfbfb807d', 'airQualityIndex': '223', 'airQualityLevel': 'POOR', 'aqiMajorPollutant': 'PM2.5', 'observationDateTime': '2021-11-25T17:41:43+05:30', 'illuminance': {'avgOverTime': 457.25}, 'atmosphericPressure': {'avgOverTime': 0.94}, 'airTemperature': {'avgOverTime': 31.95}, 'co2': {'avgOverTime': 0.95}, 'relativeHumidity': {'avgOverTime': 49.66}, 'ambientNoise': {'avgOverTime': 57.68}, 'uv': {'avgOverTime': 0.06}, 'pm2p5': {'avgOverTime': 70.43}, 'pm10': {'avgOverTime': 139.87}, 'no2': {'avgOverTime': 41.32}, 'co': {'avgOverTime': 0.51}, 'so2': {'avgOverTime': 1.61}, 'o3': {'avgOverTime': 67.16}}]\n"
     ]
    }
   ],
   "source": [
    "from iudx.rs.ResourceServer import ResourceServer\n",
    "from iudx.rs.ResourceQuery import ResourceQuery\n",
    "\n",
    "# entity id for the pune env aqm sensor.\n",
    "entity_id = \"datakaveri.org/04a15c9960ffda227e9546f3f46e629e1fe4132b/rs.iudx.org.in/pune-env-aqm/83cdf03d-5787-7052-08aa-143cfbfb807d\"\n",
    "\n",
    "# creating an object of ResourceServer class using rs_url.\n",
    "rs = ResourceServer(\n",
    "         rs_url=\"https://rs.iudx.org.in/ngsi-ld/v1\",\n",
    "         token_file='./credentials.json',\n",
    "         headers={\"content-type\": \"application/json\"}\n",
    "     )\n",
    "\n",
    "# creating a query for fetching latest data for the entity_id.\n",
    "rs_query = ResourceQuery()\n",
    "rs_entity = rs_query.add_entity(entity_id)\n",
    "\n",
    "# fetch results for a list of entities.\n",
    "results = rs.get_latest([rs_entity])\n",
    "\n",
    "# printing results\n",
    "print(f\"RESULTS: {results[0].results}\")\n"
   ]
  },
  {
   "cell_type": "code",
   "execution_count": null,
   "id": "b7362cc9-4675-48a7-93c2-1772b782b8a1",
   "metadata": {},
   "outputs": [],
   "source": []
  }
 ],
 "metadata": {
  "kernelspec": {
   "display_name": "Python 3",
   "language": "python",
   "name": "python3"
  },
  "language_info": {
   "codemirror_mode": {
    "name": "ipython",
    "version": 3
   },
   "file_extension": ".py",
   "mimetype": "text/x-python",
   "name": "python",
   "nbconvert_exporter": "python",
   "pygments_lexer": "ipython3",
   "version": "3.7.10"
  }
 },
 "nbformat": 4,
 "nbformat_minor": 5
}
