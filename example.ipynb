{
 "cells": [
  {
   "cell_type": "markdown",
   "id": "1544e696-2748-4092-9a08-dc547ce95fc4",
   "metadata": {},
   "source": [
    "# Token Generation"
   ]
  },
  {
   "cell_type": "code",
   "execution_count": null,
   "id": "e182ca40-220f-440a-be38-9c9bfb9c8c7e",
   "metadata": {},
   "outputs": [],
   "source": [
    "from iudx.auth.Token import Token\n",
    "\n",
    "token = Token(auth_url=\"https://authorization.iudx.org.in/auth/v1/token\", authorization_token_file='./credentials.json')\n",
    "\n",
    "token.set_item(\n",
    "    item_id=\"rs.iudx.org.in\",\n",
    "    item_type=\"resource_server\",\n",
    "    role=\"consumer\")\n",
    "\n",
    "access_token = token.request_token()"
   ]
  },
  {
   "cell_type": "markdown",
   "id": "268e36e8-cd2c-433b-b66d-2990fa92f10a",
   "metadata": {},
   "source": [
    "# Accessing Resource"
   ]
  },
  {
   "cell_type": "code",
   "execution_count": null,
   "id": "5be15b8b-f0a2-4913-86d5-5b19e8e7a59f",
   "metadata": {},
   "outputs": [],
   "source": [
    "from iudx.rs.ResourceServer import ResourceServer\n",
    "from iudx.rs.ResourceQuery import ResourceQuery\n",
    "\n",
    "# entity id for the pune env aqm sensor.\n",
    "entity_id = \"datakaveri.org/04a15c9960ffda227e9546f3f46e629e1fe4132b/rs.iudx.org.in/pune-env-aqm/f36b4669-628b-ad93-9970-f9d424afbf75\"\n",
    "\n",
    "# creating an object of ResourceServer class using rs_url.\n",
    "rs = ResourceServer(\n",
    "         rs_url=\"https://rs.iudx.org.in/ngsi-ld/v1\",\n",
    "         token_file=access_token,\n",
    "         headers={\"content-type\": \"application/json\"}\n",
    "     )\n",
    "\n",
    "# creating a query for fetching latest data for the entity_id.\n",
    "rs_query = ResourceQuery()\n",
    "rs_entity = rs_query.add_entity(entity_id)\n",
    "\n",
    "# create a during query for a time interval.\n",
    "during_query = rs_entity.during_search(\n",
    "                   start_time=\"2021-01-01T14:20:00Z\",\n",
    "                   end_time=\"2021-01-09T14:20:00Z\"\n",
    "               )\n",
    "\n",
    "# fetch results for the list of during queries.\n",
    "results = rs.get_data([during_query])\n",
    "\n",
    "# printing results\n",
    "print(f\"RESULTS: {results}\")\n"
   ]
  }
 ],
 "metadata": {
  "kernelspec": {
   "display_name": "Python 3 (ipykernel)",
   "language": "python",
   "name": "python3"
  },
  "language_info": {
   "codemirror_mode": {
    "name": "ipython",
    "version": 3
   },
   "file_extension": ".py",
   "mimetype": "text/x-python",
   "name": "python",
   "nbconvert_exporter": "python",
   "pygments_lexer": "ipython3",
   "version": "3.7.12"
  }
 },
 "nbformat": 4,
 "nbformat_minor": 5
}
